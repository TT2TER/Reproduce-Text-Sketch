{
 "cells": [
  {
   "cell_type": "code",
   "execution_count": 7,
   "metadata": {},
   "outputs": [],
   "source": [
    "import torch\n",
    "from annotator.util import HWC3, resize_image\n",
    "from dataloaders import CLIC\n",
    "import tqdm\n",
    "import numpy as np\n",
    "from PIL import Image\n",
    "from torchvision import transforms"
   ]
  },
  {
   "cell_type": "code",
   "execution_count": 3,
   "metadata": {},
   "outputs": [],
   "source": [
    "clic = CLIC(root='/home/Shared/image_datasets/CLIC/2020', batch_size=1)"
   ]
  },
  {
   "cell_type": "code",
   "execution_count": 4,
   "metadata": {},
   "outputs": [],
   "source": [
    "x = clic.train_dset[2][0]"
   ]
  },
  {
   "cell_type": "code",
   "execution_count": 6,
   "metadata": {},
   "outputs": [],
   "source": [
    "save_dir = '/home/Shared/image_datasets/CLIC_resized/2020/train/1'"
   ]
  },
  {
   "cell_type": "code",
   "execution_count": 9,
   "metadata": {},
   "outputs": [
    {
     "name": "stderr",
     "output_type": "stream",
     "text": [
      "100%|██████████| 1633/1633 [05:18<00:00,  5.13it/s]\n"
     ]
    }
   ],
   "source": [
    "for i, x in tqdm.tqdm(enumerate(clic.train_dset), total=len(clic.train_dset)):\n",
    "    x = x[0]\n",
    "    x_im = (255*x.permute(1,2,0)).numpy().astype(np.uint8)\n",
    "    im = resize_image(HWC3(x_im), 512)\n",
    "    im = Image.fromarray(im)\n",
    "    im.save(f'{save_dir}/{i:04d}.png')"
   ]
  }
 ],
 "metadata": {
  "kernelspec": {
   "display_name": "torch2",
   "language": "python",
   "name": "python3"
  },
  "language_info": {
   "codemirror_mode": {
    "name": "ipython",
    "version": 3
   },
   "file_extension": ".py",
   "mimetype": "text/x-python",
   "name": "python",
   "nbconvert_exporter": "python",
   "pygments_lexer": "ipython3",
   "version": "3.9.17"
  },
  "orig_nbformat": 4
 },
 "nbformat": 4,
 "nbformat_minor": 2
}

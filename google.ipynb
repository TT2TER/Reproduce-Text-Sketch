{
  "cells": [
    {
      "cell_type": "markdown",
      "metadata": {},
      "source": [
        "# 环境配置，只需要在初始化时运行一次即可\n"
      ]
    },
    {
      "cell_type": "code",
      "execution_count": null,
      "metadata": {
        "colab": {
          "base_uri": "https://localhost:8080/"
        },
        "id": "paF87QmWWc93",
        "outputId": "d5e236e1-baa9-4e93-86d1-923e23f7c3bd"
      },
      "outputs": [],
      "source": [
        "# colab挂载网盘\n",
        "from google.colab import drive\n",
        "drive.mount(\"/content/drive\")\n"
      ]
    },
    {
      "cell_type": "code",
      "execution_count": null,
      "metadata": {},
      "outputs": [],
      "source": [
        "# !conda create --name 6g python=3.10 #创建conda环境\n"
      ]
    },
    {
      "cell_type": "code",
      "execution_count": null,
      "metadata": {},
      "outputs": [],
      "source": [
        "#请不要在notebook中执行以下代码：\n",
        "# pip3 install torch torchvision torchaudio --index-url https://download.pytorch.org/whl/cu118\n"
      ]
    },
    {
      "cell_type": "code",
      "execution_count": null,
      "metadata": {},
      "outputs": [],
      "source": [
        "#请不要在notebook中执行以下代码：\n",
        "# pip install requests zipfile36 tqdm\n",
        "#pip install pytorch-lightning\n",
        "#pip install matplotlib\n",
        "#pip install opencv-python\n",
        "#pip install einops\n",
        "#pip install diffusers\n",
        "#pip install ftfy\n",
        "#pip install sentence-transformers\n",
        "#  compressai   accelerate xformers basicsr"
      ]
    },
    {
      "cell_type": "markdown",
      "metadata": {},
      "source": [
        "# 下载数据集"
      ]
    },
    {
      "cell_type": "code",
      "execution_count": 1,
      "metadata": {},
      "outputs": [],
      "source": [
        "import requests  # 用于从URL下载文件\n",
        "import zipfile  # 用于解压缩文件\n",
        "from tqdm import tqdm\n",
        "def download_file(url, target_path):\n",
        "    \"\"\"\n",
        "    从指定的URL下载文件并保存到目标路径\n",
        "    \"\"\"\n",
        "    # 发送GET请求\n",
        "    response = requests.get(url, stream=True)\n",
        "\n",
        "    # 检查请求是否成功\n",
        "    if response.status_code == 200:\n",
        "        # 获取文件大小\n",
        "        file_size = int(response.headers.get('Content-Length', 0))\n",
        "\n",
        "        # 创建tqdm进度条\n",
        "        progress_bar = tqdm(total=file_size, unit='iB', unit_scale=True)\n",
        "\n",
        "        # 打开目标文件并写入响应内容\n",
        "        with open(target_path, 'wb') as f:\n",
        "            for chunk in response.iter_content(chunk_size=1024):\n",
        "                if chunk:\n",
        "                    # 更新进度条\n",
        "                    progress_bar.update(len(chunk))\n",
        "                    f.write(chunk)\n",
        "\n",
        "        # 关闭进度条\n",
        "        progress_bar.close()\n",
        "    else:\n",
        "        print(f\"请求失败，状态码：{response.status_code}\")\n",
        "# 定义解压缩函数\n",
        "def unzip_file(zip_path, extract_path):\n",
        "    \"\"\"\n",
        "    解压缩zip文件到指定的目录\n",
        "    \"\"\"\n",
        "    # 创建ZipFile对象\n",
        "    with zipfile.ZipFile(zip_path, 'r') as zip_ref:\n",
        "        # 解压缩文件\n",
        "        zip_ref.extractall(extract_path)"
      ]
    },
    {
      "cell_type": "markdown",
      "metadata": {},
      "source": [
        "# 每次更新github仓库后，重新下载解压代码"
      ]
    },
    {
      "cell_type": "code",
      "execution_count": null,
      "metadata": {},
      "outputs": [],
      "source": [
        "# # 定义URL和目标路径\n",
        "# url = \"https://github.com/TT2TER/Reproduce-Text-Sketch/archive/refs/heads/main.zip\"  # 替换为你的zip文件的URL\n",
        "# target_path = \"/content/download/main.zip\"  # 替换为你想要保存zip文件的路径\n",
        "# # 调用下载函数\n",
        "# download_file(url, target_path)\n",
        "# # 定义zip文件路径和解压缩目录\n",
        "# zip_path = target_path  # 替换为你的zip文件的路径\n",
        "# extract_path = \"/content\"  # 替换为你想要解压缩到的目录\n",
        "# # 调用解压缩函数\n",
        "# unzip_file(zip_path, extract_path)"
      ]
    },
    {
      "cell_type": "code",
      "execution_count": 8,
      "metadata": {},
      "outputs": [
        {
          "name": "stdout",
          "output_type": "stream",
          "text": [
            "/root/Reproduce-Text-Sketch\n"
          ]
        }
      ],
      "source": [
        "!pwd"
      ]
    },
    {
      "cell_type": "code",
      "execution_count": 18,
      "metadata": {
        "colab": {
          "base_uri": "https://localhost:8080/"
        },
        "id": "3hh3cHAJb8ov",
        "outputId": "0e70e54f-4f12-4e99-d51c-1654a9f9cce0"
      },
      "outputs": [],
      "source": [
        "import os\n",
        "path=\"/root/Reproduce-Text-Sketch\"\n",
        "os.chdir(path)\n",
        "os.listdir(path)\n",
        "os.chdir(\"/root\")"
      ]
    },
    {
      "cell_type": "code",
      "execution_count": null,
      "metadata": {
        "id": "O3yguDkDcmoV"
      },
      "outputs": [],
      "source": [
        "! pip install compressai diffusers pytorch-lightning opencv-python einops ftfy sentence-transformers accelerate xformers basicsr > log.txt"
      ]
    },
    {
      "cell_type": "code",
      "execution_count": 19,
      "metadata": {
        "colab": {
          "base_uri": "https://localhost:8080/"
        },
        "id": "R5I5kRY0mHNR",
        "outputId": "7ef766d4-b2c4-4a58-ac01-0ab0d557f8fa"
      },
      "outputs": [
        {
          "name": "stderr",
          "output_type": "stream",
          "text": [
            "  0%|          | 345k/892M [00:13<9:55:37, 24.9kiB/s]  "
          ]
        },
        {
          "ename": "KeyboardInterrupt",
          "evalue": "",
          "output_type": "error",
          "traceback": [
            "\u001b[0;31m---------------------------------------------------------------------------\u001b[0m",
            "\u001b[0;31mKeyboardInterrupt\u001b[0m                         Traceback (most recent call last)",
            "\u001b[1;32m/root/Reproduce-Text-Sketch/google.ipynb 单元格 13\u001b[0m line \u001b[0;36m1\n\u001b[1;32m     <a href='vscode-notebook-cell://ssh-remote%2Bconnect.beijinga.seetacloud.com/root/Reproduce-Text-Sketch/google.ipynb#X14sdnNjb2RlLXJlbW90ZQ%3D%3D?line=9'>10</a>\u001b[0m target_path \u001b[39m=\u001b[39m download_path\u001b[39m+\u001b[39m\u001b[39m\"\u001b[39m\u001b[39m/test.zip\u001b[39m\u001b[39m\"\u001b[39m  \u001b[39m# 替换为你想要保存zip文件的路径\u001b[39;00m\n\u001b[1;32m     <a href='vscode-notebook-cell://ssh-remote%2Bconnect.beijinga.seetacloud.com/root/Reproduce-Text-Sketch/google.ipynb#X14sdnNjb2RlLXJlbW90ZQ%3D%3D?line=10'>11</a>\u001b[0m \u001b[39m# 调用下载函数\u001b[39;00m\n\u001b[0;32m---> <a href='vscode-notebook-cell://ssh-remote%2Bconnect.beijinga.seetacloud.com/root/Reproduce-Text-Sketch/google.ipynb#X14sdnNjb2RlLXJlbW90ZQ%3D%3D?line=11'>12</a>\u001b[0m download_file(url, target_path)\n\u001b[1;32m     <a href='vscode-notebook-cell://ssh-remote%2Bconnect.beijinga.seetacloud.com/root/Reproduce-Text-Sketch/google.ipynb#X14sdnNjb2RlLXJlbW90ZQ%3D%3D?line=12'>13</a>\u001b[0m \u001b[39m# 定义zip文件路径和解压缩目录\u001b[39;00m\n\u001b[1;32m     <a href='vscode-notebook-cell://ssh-remote%2Bconnect.beijinga.seetacloud.com/root/Reproduce-Text-Sketch/google.ipynb#X14sdnNjb2RlLXJlbW90ZQ%3D%3D?line=13'>14</a>\u001b[0m zip_path \u001b[39m=\u001b[39m target_path  \u001b[39m# 替换为你的zip文件的路径\u001b[39;00m\n",
            "\u001b[1;32m/root/Reproduce-Text-Sketch/google.ipynb 单元格 13\u001b[0m line \u001b[0;36m2\n\u001b[1;32m     <a href='vscode-notebook-cell://ssh-remote%2Bconnect.beijinga.seetacloud.com/root/Reproduce-Text-Sketch/google.ipynb#X14sdnNjb2RlLXJlbW90ZQ%3D%3D?line=18'>19</a>\u001b[0m \u001b[39m# 打开目标文件并写入响应内容\u001b[39;00m\n\u001b[1;32m     <a href='vscode-notebook-cell://ssh-remote%2Bconnect.beijinga.seetacloud.com/root/Reproduce-Text-Sketch/google.ipynb#X14sdnNjb2RlLXJlbW90ZQ%3D%3D?line=19'>20</a>\u001b[0m \u001b[39mwith\u001b[39;00m \u001b[39mopen\u001b[39m(target_path, \u001b[39m'\u001b[39m\u001b[39mwb\u001b[39m\u001b[39m'\u001b[39m) \u001b[39mas\u001b[39;00m f:\n\u001b[0;32m---> <a href='vscode-notebook-cell://ssh-remote%2Bconnect.beijinga.seetacloud.com/root/Reproduce-Text-Sketch/google.ipynb#X14sdnNjb2RlLXJlbW90ZQ%3D%3D?line=20'>21</a>\u001b[0m     \u001b[39mfor\u001b[39;00m chunk \u001b[39min\u001b[39;00m response\u001b[39m.\u001b[39miter_content(chunk_size\u001b[39m=\u001b[39m\u001b[39m1024\u001b[39m):\n\u001b[1;32m     <a href='vscode-notebook-cell://ssh-remote%2Bconnect.beijinga.seetacloud.com/root/Reproduce-Text-Sketch/google.ipynb#X14sdnNjb2RlLXJlbW90ZQ%3D%3D?line=21'>22</a>\u001b[0m         \u001b[39mif\u001b[39;00m chunk:\n\u001b[1;32m     <a href='vscode-notebook-cell://ssh-remote%2Bconnect.beijinga.seetacloud.com/root/Reproduce-Text-Sketch/google.ipynb#X14sdnNjb2RlLXJlbW90ZQ%3D%3D?line=22'>23</a>\u001b[0m             \u001b[39m# 更新进度条\u001b[39;00m\n\u001b[1;32m     <a href='vscode-notebook-cell://ssh-remote%2Bconnect.beijinga.seetacloud.com/root/Reproduce-Text-Sketch/google.ipynb#X14sdnNjb2RlLXJlbW90ZQ%3D%3D?line=23'>24</a>\u001b[0m             progress_bar\u001b[39m.\u001b[39mupdate(\u001b[39mlen\u001b[39m(chunk))\n",
            "File \u001b[0;32m~/miniconda3/lib/python3.10/site-packages/requests/models.py:816\u001b[0m, in \u001b[0;36mResponse.iter_content.<locals>.generate\u001b[0;34m()\u001b[0m\n\u001b[1;32m    814\u001b[0m \u001b[39mif\u001b[39;00m \u001b[39mhasattr\u001b[39m(\u001b[39mself\u001b[39m\u001b[39m.\u001b[39mraw, \u001b[39m\"\u001b[39m\u001b[39mstream\u001b[39m\u001b[39m\"\u001b[39m):\n\u001b[1;32m    815\u001b[0m     \u001b[39mtry\u001b[39;00m:\n\u001b[0;32m--> 816\u001b[0m         \u001b[39myield from\u001b[39;00m \u001b[39mself\u001b[39m\u001b[39m.\u001b[39mraw\u001b[39m.\u001b[39mstream(chunk_size, decode_content\u001b[39m=\u001b[39m\u001b[39mTrue\u001b[39;00m)\n\u001b[1;32m    817\u001b[0m     \u001b[39mexcept\u001b[39;00m ProtocolError \u001b[39mas\u001b[39;00m e:\n\u001b[1;32m    818\u001b[0m         \u001b[39mraise\u001b[39;00m ChunkedEncodingError(e)\n",
            "File \u001b[0;32m~/miniconda3/lib/python3.10/site-packages/urllib3/response.py:628\u001b[0m, in \u001b[0;36mHTTPResponse.stream\u001b[0;34m(self, amt, decode_content)\u001b[0m\n\u001b[1;32m    626\u001b[0m \u001b[39melse\u001b[39;00m:\n\u001b[1;32m    627\u001b[0m     \u001b[39mwhile\u001b[39;00m \u001b[39mnot\u001b[39;00m is_fp_closed(\u001b[39mself\u001b[39m\u001b[39m.\u001b[39m_fp):\n\u001b[0;32m--> 628\u001b[0m         data \u001b[39m=\u001b[39m \u001b[39mself\u001b[39;49m\u001b[39m.\u001b[39;49mread(amt\u001b[39m=\u001b[39;49mamt, decode_content\u001b[39m=\u001b[39;49mdecode_content)\n\u001b[1;32m    630\u001b[0m         \u001b[39mif\u001b[39;00m data:\n\u001b[1;32m    631\u001b[0m             \u001b[39myield\u001b[39;00m data\n",
            "File \u001b[0;32m~/miniconda3/lib/python3.10/site-packages/urllib3/response.py:567\u001b[0m, in \u001b[0;36mHTTPResponse.read\u001b[0;34m(self, amt, decode_content, cache_content)\u001b[0m\n\u001b[1;32m    564\u001b[0m fp_closed \u001b[39m=\u001b[39m \u001b[39mgetattr\u001b[39m(\u001b[39mself\u001b[39m\u001b[39m.\u001b[39m_fp, \u001b[39m\"\u001b[39m\u001b[39mclosed\u001b[39m\u001b[39m\"\u001b[39m, \u001b[39mFalse\u001b[39;00m)\n\u001b[1;32m    566\u001b[0m \u001b[39mwith\u001b[39;00m \u001b[39mself\u001b[39m\u001b[39m.\u001b[39m_error_catcher():\n\u001b[0;32m--> 567\u001b[0m     data \u001b[39m=\u001b[39m \u001b[39mself\u001b[39;49m\u001b[39m.\u001b[39;49m_fp_read(amt) \u001b[39mif\u001b[39;00m \u001b[39mnot\u001b[39;00m fp_closed \u001b[39melse\u001b[39;00m \u001b[39mb\u001b[39m\u001b[39m\"\u001b[39m\u001b[39m\"\u001b[39m\n\u001b[1;32m    568\u001b[0m     \u001b[39mif\u001b[39;00m amt \u001b[39mis\u001b[39;00m \u001b[39mNone\u001b[39;00m:\n\u001b[1;32m    569\u001b[0m         flush_decoder \u001b[39m=\u001b[39m \u001b[39mTrue\u001b[39;00m\n",
            "File \u001b[0;32m~/miniconda3/lib/python3.10/site-packages/urllib3/response.py:533\u001b[0m, in \u001b[0;36mHTTPResponse._fp_read\u001b[0;34m(self, amt)\u001b[0m\n\u001b[1;32m    530\u001b[0m     \u001b[39mreturn\u001b[39;00m buffer\u001b[39m.\u001b[39mgetvalue()\n\u001b[1;32m    531\u001b[0m \u001b[39melse\u001b[39;00m:\n\u001b[1;32m    532\u001b[0m     \u001b[39m# StringIO doesn't like amt=None\u001b[39;00m\n\u001b[0;32m--> 533\u001b[0m     \u001b[39mreturn\u001b[39;00m \u001b[39mself\u001b[39;49m\u001b[39m.\u001b[39;49m_fp\u001b[39m.\u001b[39;49mread(amt) \u001b[39mif\u001b[39;00m amt \u001b[39mis\u001b[39;00m \u001b[39mnot\u001b[39;00m \u001b[39mNone\u001b[39;00m \u001b[39melse\u001b[39;00m \u001b[39mself\u001b[39m\u001b[39m.\u001b[39m_fp\u001b[39m.\u001b[39mread()\n",
            "File \u001b[0;32m~/miniconda3/lib/python3.10/http/client.py:465\u001b[0m, in \u001b[0;36mHTTPResponse.read\u001b[0;34m(self, amt)\u001b[0m\n\u001b[1;32m    462\u001b[0m \u001b[39mif\u001b[39;00m \u001b[39mself\u001b[39m\u001b[39m.\u001b[39mlength \u001b[39mis\u001b[39;00m \u001b[39mnot\u001b[39;00m \u001b[39mNone\u001b[39;00m \u001b[39mand\u001b[39;00m amt \u001b[39m>\u001b[39m \u001b[39mself\u001b[39m\u001b[39m.\u001b[39mlength:\n\u001b[1;32m    463\u001b[0m     \u001b[39m# clip the read to the \"end of response\"\u001b[39;00m\n\u001b[1;32m    464\u001b[0m     amt \u001b[39m=\u001b[39m \u001b[39mself\u001b[39m\u001b[39m.\u001b[39mlength\n\u001b[0;32m--> 465\u001b[0m s \u001b[39m=\u001b[39m \u001b[39mself\u001b[39;49m\u001b[39m.\u001b[39;49mfp\u001b[39m.\u001b[39;49mread(amt)\n\u001b[1;32m    466\u001b[0m \u001b[39mif\u001b[39;00m \u001b[39mnot\u001b[39;00m s \u001b[39mand\u001b[39;00m amt:\n\u001b[1;32m    467\u001b[0m     \u001b[39m# Ideally, we would raise IncompleteRead if the content-length\u001b[39;00m\n\u001b[1;32m    468\u001b[0m     \u001b[39m# wasn't satisfied, but it might break compatibility.\u001b[39;00m\n\u001b[1;32m    469\u001b[0m     \u001b[39mself\u001b[39m\u001b[39m.\u001b[39m_close_conn()\n",
            "File \u001b[0;32m~/miniconda3/lib/python3.10/socket.py:705\u001b[0m, in \u001b[0;36mSocketIO.readinto\u001b[0;34m(self, b)\u001b[0m\n\u001b[1;32m    703\u001b[0m \u001b[39mwhile\u001b[39;00m \u001b[39mTrue\u001b[39;00m:\n\u001b[1;32m    704\u001b[0m     \u001b[39mtry\u001b[39;00m:\n\u001b[0;32m--> 705\u001b[0m         \u001b[39mreturn\u001b[39;00m \u001b[39mself\u001b[39;49m\u001b[39m.\u001b[39;49m_sock\u001b[39m.\u001b[39;49mrecv_into(b)\n\u001b[1;32m    706\u001b[0m     \u001b[39mexcept\u001b[39;00m timeout:\n\u001b[1;32m    707\u001b[0m         \u001b[39mself\u001b[39m\u001b[39m.\u001b[39m_timeout_occurred \u001b[39m=\u001b[39m \u001b[39mTrue\u001b[39;00m\n",
            "File \u001b[0;32m~/miniconda3/lib/python3.10/ssl.py:1274\u001b[0m, in \u001b[0;36mSSLSocket.recv_into\u001b[0;34m(self, buffer, nbytes, flags)\u001b[0m\n\u001b[1;32m   1270\u001b[0m     \u001b[39mif\u001b[39;00m flags \u001b[39m!=\u001b[39m \u001b[39m0\u001b[39m:\n\u001b[1;32m   1271\u001b[0m         \u001b[39mraise\u001b[39;00m \u001b[39mValueError\u001b[39;00m(\n\u001b[1;32m   1272\u001b[0m           \u001b[39m\"\u001b[39m\u001b[39mnon-zero flags not allowed in calls to recv_into() on \u001b[39m\u001b[39m%s\u001b[39;00m\u001b[39m\"\u001b[39m \u001b[39m%\u001b[39m\n\u001b[1;32m   1273\u001b[0m           \u001b[39mself\u001b[39m\u001b[39m.\u001b[39m\u001b[39m__class__\u001b[39m)\n\u001b[0;32m-> 1274\u001b[0m     \u001b[39mreturn\u001b[39;00m \u001b[39mself\u001b[39;49m\u001b[39m.\u001b[39;49mread(nbytes, buffer)\n\u001b[1;32m   1275\u001b[0m \u001b[39melse\u001b[39;00m:\n\u001b[1;32m   1276\u001b[0m     \u001b[39mreturn\u001b[39;00m \u001b[39msuper\u001b[39m()\u001b[39m.\u001b[39mrecv_into(buffer, nbytes, flags)\n",
            "File \u001b[0;32m~/miniconda3/lib/python3.10/ssl.py:1130\u001b[0m, in \u001b[0;36mSSLSocket.read\u001b[0;34m(self, len, buffer)\u001b[0m\n\u001b[1;32m   1128\u001b[0m \u001b[39mtry\u001b[39;00m:\n\u001b[1;32m   1129\u001b[0m     \u001b[39mif\u001b[39;00m buffer \u001b[39mis\u001b[39;00m \u001b[39mnot\u001b[39;00m \u001b[39mNone\u001b[39;00m:\n\u001b[0;32m-> 1130\u001b[0m         \u001b[39mreturn\u001b[39;00m \u001b[39mself\u001b[39;49m\u001b[39m.\u001b[39;49m_sslobj\u001b[39m.\u001b[39;49mread(\u001b[39mlen\u001b[39;49m, buffer)\n\u001b[1;32m   1131\u001b[0m     \u001b[39melse\u001b[39;00m:\n\u001b[1;32m   1132\u001b[0m         \u001b[39mreturn\u001b[39;00m \u001b[39mself\u001b[39m\u001b[39m.\u001b[39m_sslobj\u001b[39m.\u001b[39mread(\u001b[39mlen\u001b[39m)\n",
            "\u001b[0;31mKeyboardInterrupt\u001b[0m: "
          ]
        },
        {
          "name": "stderr",
          "output_type": "stream",
          "text": [
            "  0%|          | 360k/892M [00:29<9:55:36, 24.9kiB/s]"
          ]
        }
      ],
      "source": [
        "import os\n",
        "download_path='/root/autodl-tmp/download'\n",
        "data_path='/root/autodl-tmp/image_datasets'\n",
        "os.mkdir(download_path)\n",
        "os.mkdir(data_path)\n",
        "\n",
        "\n",
        "# 定义URL和目标路径\n",
        "url = \"https://data.vision.ee.ethz.ch/cvl/clic/test/CLIC2020Professional_test.zip\"  # 替换为你的zip文件的URL\n",
        "target_path = download_path+\"/test.zip\"  # 替换为你想要保存zip文件的路径\n",
        "# 调用下载函数\n",
        "download_file(url, target_path)\n",
        "# 定义zip文件路径和解压缩目录\n",
        "zip_path = target_path  # 替换为你的zip文件的路径\n",
        "extract_path = data_path+\"/CLIC/2020/test\"  # 替换为你想要解压缩到的目录\n",
        "# 调用解压缩函数\n",
        "unzip_file(zip_path, extract_path)\n",
        "\n",
        "# 定义URL和目标路径\n",
        "url = \"https://data.vision.ee.ethz.ch/cvl/clic/professional_train_2020.zip\"  # 替换为你的zip文件的URL\n",
        "target_path = download_path+\"/train.zip\"  # 替换为你想要保存zip文件的路径\n",
        "# 调用下载函数\n",
        "download_file(url, target_path)\n",
        "# 定义zip文件路径和解压缩目录\n",
        "zip_path = target_path  # 替换为你的zip文件的路径\n",
        "extract_path = data_path+\"/CLIC/2020/train\"  # 替换为你想要解压缩到的目录\n",
        "# 调用解压缩函数\n",
        "unzip_file(zip_path, extract_path)\n",
        "\n",
        "# 定义URL和目标路径\n",
        "url = \"https://data.vision.ee.ethz.ch/cvl/clic/professional_valid_2020.zip\"  # 替换为你的zip文件的URL\n",
        "target_path = download_path+\"/valid.zip\"  # 替换为你想要保存zip文件的路径\n",
        "# 调用下载函数\n",
        "download_file(url, target_path)\n",
        "# 定义zip文件路径和解压缩目录\n",
        "zip_path = target_path  # 替换为你的zip文件的路径\n",
        "extract_path = data_path+\"/CLIC/2020/valid\"  # 替换为你想要解压缩到的目录\n",
        "# 调用解压缩函数\n",
        "unzip_file(zip_path, extract_path)"
      ]
    },
    {
      "cell_type": "code",
      "execution_count": null,
      "metadata": {
        "colab": {
          "base_uri": "https://localhost:8080/"
        },
        "id": "XyVuozf-zvI7",
        "outputId": "cb079787-338b-484a-bc91-6454c9f586d3"
      },
      "outputs": [],
      "source": [
        "!pip3 install -U xformers --index-url https://download.pytorch.org/whl/cu118"
      ]
    },
    {
      "cell_type": "markdown",
      "metadata": {},
      "source": [
        "删除测试集的数据，减少测试时间"
      ]
    },
    {
      "cell_type": "code",
      "execution_count": null,
      "metadata": {
        "colab": {
          "base_uri": "https://localhost:8080/"
        },
        "id": "BZwFz6Ih2ZHB",
        "outputId": "f30f6c30-8807-42fd-c47d-90395421fd76"
      },
      "outputs": [],
      "source": [
        "import os\n",
        "\n",
        "path=\"../image_datasets/CLIC/2020/test/professional\"\n",
        "os.chdir(path)\n",
        "# 获取当前脚本所在的文件夹路径\n",
        "current_directory = os.getcwd()\n",
        "print(current_directory)\n",
        "# 获取当前文件夹下的所有文件和文件夹\n",
        "files_and_folders = os.listdir(current_directory)\n",
        "\n",
        "# 获取前240项文件\n",
        "files_to_delete = files_and_folders[:240]\n",
        "\n",
        "# 删除文件\n",
        "for file_name in files_to_delete:\n",
        "    file_path = os.path.join(current_directory, file_name)\n",
        "    try:\n",
        "        os.remove(file_path)\n",
        "        print(f\"Deleted: {file_name}\")\n",
        "    except Exception as e:\n",
        "        print(f\"Error deleting {file_name}: {e}\")\n",
        "\n",
        "print(\"Deletion complete.\")\n"
      ]
    },
    {
      "cell_type": "code",
      "execution_count": null,
      "metadata": {
        "id": "5w_Ucbtv5Wbg"
      },
      "outputs": [],
      "source": [
        "path=\"/content/Reproduce-Text-Sketch-main\"\n",
        "os.chdir(path)"
      ]
    },
    {
      "cell_type": "code",
      "execution_count": null,
      "metadata": {
        "colab": {
          "base_uri": "https://localhost:8080/"
        },
        "id": "VkzDiMLScd1r",
        "outputId": "36144cf7-1b9d-44b1-c7ce-5ed7fadc18b5"
      },
      "outputs": [],
      "source": [
        "! python eval_PIC.py"
      ]
    }
  ],
  "metadata": {
    "accelerator": "GPU",
    "colab": {
      "gpuType": "T4",
      "provenance": []
    },
    "kernelspec": {
      "display_name": "Python 3",
      "name": "python3"
    },
    "language_info": {
      "codemirror_mode": {
        "name": "ipython",
        "version": 3
      },
      "file_extension": ".py",
      "mimetype": "text/x-python",
      "name": "python",
      "nbconvert_exporter": "python",
      "pygments_lexer": "ipython3",
      "version": "3.10.13"
    }
  },
  "nbformat": 4,
  "nbformat_minor": 0
}

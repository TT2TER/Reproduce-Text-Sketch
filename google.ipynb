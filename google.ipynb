{
  "nbformat": 4,
  "nbformat_minor": 0,
  "metadata": {
    "colab": {
      "provenance": [],
      "gpuType": "T4"
    },
    "kernelspec": {
      "name": "python3",
      "display_name": "Python 3"
    },
    "language_info": {
      "name": "python"
    },
    "accelerator": "GPU"
  },
  "cells": [
    {
      "cell_type": "code",
      "execution_count": null,
      "metadata": {
        "colab": {
          "base_uri": "https://localhost:8080/"
        },
        "id": "paF87QmWWc93",
        "outputId": "c595a6e0-921e-4aad-d635-d3241adb6d3e"
      },
      "outputs": [
        {
          "output_type": "stream",
          "name": "stdout",
          "text": [
            "Drive already mounted at /content/drive; to attempt to forcibly remount, call drive.mount(\"/content/drive\", force_remount=True).\n"
          ]
        }
      ],
      "source": [
        "from google.colab import drive\n",
        "drive.mount(\"/content/drive\")"
      ]
    },
    {
      "cell_type": "code",
      "source": [
        "import os\n",
        "path=\"/content/drive/My Drive/Reproduce-Text-Sketch\"\n",
        "os.chdir(path)\n",
        "os.listdir(path)"
      ],
      "metadata": {
        "colab": {
          "base_uri": "https://localhost:8080/"
        },
        "id": "3hh3cHAJb8ov",
        "outputId": "f0cc7ed1-06f1-4833-b783-55fa5ba0f175"
      },
      "execution_count": null,
      "outputs": [
        {
          "output_type": "execute_result",
          "data": {
            "text/plain": [
              "['scripts',\n",
              " 'annotator',\n",
              " 'prompt_inversion',\n",
              " 'models_ntc',\n",
              " 'plots',\n",
              " '__pycache__',\n",
              " 'dataloaders.py',\n",
              " 'eval_PICS.py',\n",
              " '.gitignore',\n",
              " 'models_compressai.py',\n",
              " '.gitattributes',\n",
              " 'README.md',\n",
              " 'resize_images.ipynb',\n",
              " 'a',\n",
              " 'image_datasets',\n",
              " 'test.zip',\n",
              " 'professional',\n",
              " 'eval_PIC.py',\n",
              " 'log.txt']"
            ]
          },
          "metadata": {},
          "execution_count": 3
        }
      ]
    },
    {
      "cell_type": "code",
      "source": [
        "! pip install compressai diffusers pytorch-lightning opencv-python einops ftfy sentence-transformers accelerate xformers basicsr > log.txt"
      ],
      "metadata": {
        "id": "O3yguDkDcmoV"
      },
      "execution_count": null,
      "outputs": []
    },
    {
      "cell_type": "code",
      "source": [
        "!pip install requests zipfile36 tqdm>log.txt"
      ],
      "metadata": {
        "id": "aQqGxKaTfFrZ"
      },
      "execution_count": null,
      "outputs": []
    },
    {
      "cell_type": "code",
      "source": [
        "import requests  # 用于从URL下载文件\n",
        "import zipfile  # 用于解压缩文件\n",
        "from tqdm import tqdm\n",
        "def download_file(url, target_path):\n",
        "    \"\"\"\n",
        "    从指定的URL下载文件并保存到目标路径\n",
        "    \"\"\"\n",
        "    # 发送GET请求\n",
        "    response = requests.get(url, stream=True)\n",
        "\n",
        "    # 检查请求是否成功\n",
        "    if response.status_code == 200:\n",
        "        # 获取文件大小\n",
        "        file_size = int(response.headers.get('Content-Length', 0))\n",
        "\n",
        "        # 创建tqdm进度条\n",
        "        progress_bar = tqdm(total=file_size, unit='iB', unit_scale=True)\n",
        "\n",
        "        # 打开目标文件并写入响应内容\n",
        "        with open(target_path, 'wb') as f:\n",
        "            for chunk in response.iter_content(chunk_size=1024):\n",
        "                if chunk:\n",
        "                    # 更新进度条\n",
        "                    progress_bar.update(len(chunk))\n",
        "                    f.write(chunk)\n",
        "\n",
        "        # 关闭进度条\n",
        "        progress_bar.close()\n",
        "    else:\n",
        "        print(f\"请求失败，状态码：{response.status_code}\")\n",
        "\n",
        "import os\n",
        "os.mkdir('/content/download')\n",
        "os.mkdir('/content/image_datasets')\n",
        "\n",
        "# 定义解压缩函数\n",
        "def unzip_file(zip_path, extract_path):\n",
        "    \"\"\"\n",
        "    解压缩zip文件到指定的目录\n",
        "    \"\"\"\n",
        "    # 创建ZipFile对象\n",
        "    with zipfile.ZipFile(zip_path, 'r') as zip_ref:\n",
        "        # 解压缩文件\n",
        "        zip_ref.extractall(extract_path)\n",
        "# 定义URL和目标路径\n",
        "url = \"https://data.vision.ee.ethz.ch/cvl/clic/test/CLIC2020Professional_test.zip\"  # 替换为你的zip文件的URL\n",
        "target_path = \"/content/download/test.zip\"  # 替换为你想要保存zip文件的路径\n",
        "# 调用下载函数\n",
        "download_file(url, target_path)\n",
        "# 定义zip文件路径和解压缩目录\n",
        "zip_path = target_path  # 替换为你的zip文件的路径\n",
        "extract_path = \"/content/image_datasets/CLIC/2020/test\"  # 替换为你想要解压缩到的目录\n",
        "# 调用解压缩函数\n",
        "unzip_file(zip_path, extract_path)\n",
        "\n",
        "# 定义URL和目标路径\n",
        "url = \"https://data.vision.ee.ethz.ch/cvl/clic/professional_train_2020.zip\"  # 替换为你的zip文件的URL\n",
        "target_path = \"/content/download/train.zip\"  # 替换为你想要保存zip文件的路径\n",
        "# 调用下载函数\n",
        "download_file(url, target_path)\n",
        "# 定义zip文件路径和解压缩目录\n",
        "zip_path = target_path  # 替换为你的zip文件的路径\n",
        "extract_path = \"/content/image_datasets/CLIC/2020/train\"  # 替换为你想要解压缩到的目录\n",
        "# 调用解压缩函数\n",
        "unzip_file(zip_path, extract_path)\n",
        "\n",
        "# 定义URL和目标路径\n",
        "url = \"https://data.vision.ee.ethz.ch/cvl/clic/professional_valid_2020.zip\"  # 替换为你的zip文件的URL\n",
        "target_path = \"/content/download/valid.zip\"  # 替换为你想要保存zip文件的路径\n",
        "# 调用下载函数\n",
        "download_file(url, target_path)\n",
        "# 定义zip文件路径和解压缩目录\n",
        "zip_path = target_path  # 替换为你的zip文件的路径\n",
        "extract_path = \"/content/image_datasets/CLIC/2020/valid\"  # 替换为你想要解压缩到的目录\n",
        "# 调用解压缩函数\n",
        "unzip_file(zip_path, extract_path)"
      ],
      "metadata": {
        "id": "R5I5kRY0mHNR",
        "colab": {
          "base_uri": "https://localhost:8080/"
        },
        "outputId": "1a94ac0b-f8d7-4087-a3ad-a6725c3e4382"
      },
      "execution_count": null,
      "outputs": [
        {
          "output_type": "stream",
          "name": "stderr",
          "text": [
            "100%|██████████| 892M/892M [00:43<00:00, 20.5MiB/s]\n",
            "100%|██████████| 2.00G/2.00G [01:57<00:00, 17.0MiB/s]\n",
            "100%|██████████| 135M/135M [00:06<00:00, 19.8MiB/s]\n"
          ]
        }
      ]
    },
    {
      "cell_type": "code",
      "source": [
        "# 定义URL和目标路径\n",
        "url = \"https://data.vision.ee.ethz.ch/cvl/clic/test/CLIC2020Professional_test.zip\"  # 替换为你的zip文件的URL\n",
        "target_path = \"/content/download/test.zip\"  # 替换为你想要保存zip文件的路径\n",
        "# 调用下载函数\n",
        "# download_file(url, target_path)\n",
        "# 定义zip文件路径和解压缩目录\n",
        "zip_path = target_path  # 替换为你的zip文件的路径\n",
        "extract_path = \"/content/image_datasets/CLIC/2020/test\"  # 替换为你想要解压缩到的目录\n",
        "# 调用解压缩函数\n",
        "unzip_file(zip_path, extract_path)\n",
        "\n",
        "# 定义URL和目标路径\n",
        "url = \"https://data.vision.ee.ethz.ch/cvl/clic/professional_train_2020.zip\"  # 替换为你的zip文件的URL\n",
        "target_path = \"/content/download/train.zip\"  # 替换为你想要保存zip文件的路径\n",
        "# 调用下载函数\n",
        "# download_file(url, target_path)\n",
        "# 定义zip文件路径和解压缩目录\n",
        "zip_path = target_path  # 替换为你的zip文件的路径\n",
        "extract_path = \"/content/image_datasets/CLIC/2020/train\"  # 替换为你想要解压缩到的目录\n",
        "# 调用解压缩函数\n",
        "unzip_file(zip_path, extract_path)\n",
        "\n",
        "# 定义URL和目标路径\n",
        "url = \"https://data.vision.ee.ethz.ch/cvl/clic/professional_valid_2020.zip\"  # 替换为你的zip文件的URL\n",
        "target_path = \"/content/download/valid.zip\"  # 替换为你想要保存zip文件的路径\n",
        "# 调用下载函数\n",
        "# download_file(url, target_path)\n",
        "# 定义zip文件路径和解压缩目录\n",
        "zip_path = target_path  # 替换为你的zip文件的路径\n",
        "extract_path = \"/content/image_datasets/CLIC/2020/valid\"  # 替换为你想要解压缩到的目录\n",
        "# 调用解压缩函数\n",
        "unzip_file(zip_path, extract_path)"
      ],
      "metadata": {
        "id": "7EzI4lnyyOuo"
      },
      "execution_count": null,
      "outputs": []
    },
    {
      "cell_type": "code",
      "source": [
        "!pip3 install -U xformers --index-url https://download.pytorch.org/whl/cu118"
      ],
      "metadata": {
        "colab": {
          "base_uri": "https://localhost:8080/"
        },
        "id": "XyVuozf-zvI7",
        "outputId": "93fa1f4b-b7ef-4044-da52-cb0876132c37"
      },
      "execution_count": null,
      "outputs": [
        {
          "output_type": "stream",
          "name": "stdout",
          "text": [
            "Looking in indexes: https://download.pytorch.org/whl/cu118\n",
            "Requirement already satisfied: xformers in /usr/local/lib/python3.10/dist-packages (0.0.22.post7)\n",
            "Collecting xformers\n",
            "  Downloading https://download.pytorch.org/whl/cu118/xformers-0.0.22.post7%2Bcu118-cp310-cp310-manylinux2014_x86_64.whl (211.5 MB)\n",
            "\u001b[2K     \u001b[90m━━━━━━━━━━━━━━━━━━━━━━━━━━━━━━━━━━━━━━━━\u001b[0m \u001b[32m211.5/211.5 MB\u001b[0m \u001b[31m5.6 MB/s\u001b[0m eta \u001b[36m0:00:00\u001b[0m\n",
            "\u001b[?25hRequirement already satisfied: numpy in /usr/local/lib/python3.10/dist-packages (from xformers) (1.23.5)\n",
            "Requirement already satisfied: torch==2.1.0 in /usr/local/lib/python3.10/dist-packages (from xformers) (2.1.0+cu118)\n",
            "Requirement already satisfied: filelock in /usr/local/lib/python3.10/dist-packages (from torch==2.1.0->xformers) (3.13.1)\n",
            "Requirement already satisfied: typing-extensions in /usr/local/lib/python3.10/dist-packages (from torch==2.1.0->xformers) (4.5.0)\n",
            "Requirement already satisfied: sympy in /usr/local/lib/python3.10/dist-packages (from torch==2.1.0->xformers) (1.12)\n",
            "Requirement already satisfied: networkx in /usr/local/lib/python3.10/dist-packages (from torch==2.1.0->xformers) (3.2.1)\n",
            "Requirement already satisfied: jinja2 in /usr/local/lib/python3.10/dist-packages (from torch==2.1.0->xformers) (3.1.2)\n",
            "Requirement already satisfied: fsspec in /usr/local/lib/python3.10/dist-packages (from torch==2.1.0->xformers) (2023.6.0)\n",
            "Requirement already satisfied: triton==2.1.0 in /usr/local/lib/python3.10/dist-packages (from torch==2.1.0->xformers) (2.1.0)\n",
            "Requirement already satisfied: MarkupSafe>=2.0 in /usr/local/lib/python3.10/dist-packages (from jinja2->torch==2.1.0->xformers) (2.1.3)\n",
            "Requirement already satisfied: mpmath>=0.19 in /usr/local/lib/python3.10/dist-packages (from sympy->torch==2.1.0->xformers) (1.3.0)\n",
            "Installing collected packages: xformers\n",
            "  Attempting uninstall: xformers\n",
            "    Found existing installation: xformers 0.0.22.post7\n",
            "    Uninstalling xformers-0.0.22.post7:\n",
            "      Successfully uninstalled xformers-0.0.22.post7\n",
            "Successfully installed xformers-0.0.22.post7+cu118\n"
          ]
        }
      ]
    },
    {
      "cell_type": "code",
      "source": [
        "! python eval_PIC.py"
      ],
      "metadata": {
        "colab": {
          "base_uri": "https://localhost:8080/"
        },
        "id": "VkzDiMLScd1r",
        "outputId": "44515914-f156-47eb-adce-158a72d5842d"
      },
      "execution_count": null,
      "outputs": [
        {
          "output_type": "stream",
          "name": "stdout",
          "text": [
            "2023-11-13 13:20:47.942647: E tensorflow/compiler/xla/stream_executor/cuda/cuda_dnn.cc:9342] Unable to register cuDNN factory: Attempting to register factory for plugin cuDNN when one has already been registered\n",
            "2023-11-13 13:20:47.942705: E tensorflow/compiler/xla/stream_executor/cuda/cuda_fft.cc:609] Unable to register cuFFT factory: Attempting to register factory for plugin cuFFT when one has already been registered\n",
            "2023-11-13 13:20:47.947093: E tensorflow/compiler/xla/stream_executor/cuda/cuda_blas.cc:1518] Unable to register cuBLAS factory: Attempting to register factory for plugin cuBLAS when one has already been registered\n",
            "2023-11-13 13:20:50.939233: W tensorflow/compiler/tf2tensorrt/utils/py_utils.cc:38] TF-TRT Warning: Could not find TensorRT\n",
            "/content/image_datasets/CLIC/2020\n",
            "/usr/local/lib/python3.10/dist-packages/diffusers/pipelines/pipeline_utils.py:267: FutureWarning: You are loading the variant fp16 from stabilityai/stable-diffusion-2-1-base via `revision='fp16'`. This behavior is deprecated and will be removed in diffusers v1. One should use `variant='fp16'` instead. However, it appears that stabilityai/stable-diffusion-2-1-base currently does not have the required variant filenames in the 'main' branch. \n",
            " The Diffusers team and community would be very grateful if you could open an issue: https://github.com/huggingface/diffusers/issues/new with the title 'stabilityai/stable-diffusion-2-1-base is missing fp16 files' so that the correct variant file can be added.\n",
            "  warnings.warn(\n",
            "vae/diffusion_pytorch_model.safetensors not found\n",
            "Loading pipeline components...: 100% 5/5 [00:11<00:00,  2.30s/it]\n",
            "^C\n"
          ]
        }
      ]
    }
  ]
}
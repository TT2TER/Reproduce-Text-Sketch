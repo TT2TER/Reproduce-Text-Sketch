{
  "cells": [
    {
      "cell_type": "code",
      "execution_count": null,
      "metadata": {
        "colab": {
          "base_uri": "https://localhost:8080/"
        },
        "id": "paF87QmWWc93",
        "outputId": "d5e236e1-baa9-4e93-86d1-923e23f7c3bd"
      },
      "outputs": [],
      "source": [
        "from google.colab import drive\n",
        "drive.mount(\"/content/drive\")"
      ]
    },
    {
      "cell_type": "markdown",
      "metadata": {},
      "source": [
        "# 下载数据集"
      ]
    },
    {
      "cell_type": "code",
      "execution_count": null,
      "metadata": {},
      "outputs": [],
      "source": [
        "!pip install requests zipfile36 tqdm>log.txt"
      ]
    },
    {
      "cell_type": "code",
      "execution_count": null,
      "metadata": {},
      "outputs": [],
      "source": [
        "import requests  # 用于从URL下载文件\n",
        "import zipfile  # 用于解压缩文件\n",
        "from tqdm import tqdm\n",
        "def download_file(url, target_path):\n",
        "    \"\"\"\n",
        "    从指定的URL下载文件并保存到目标路径\n",
        "    \"\"\"\n",
        "    # 发送GET请求\n",
        "    response = requests.get(url, stream=True)\n",
        "\n",
        "    # 检查请求是否成功\n",
        "    if response.status_code == 200:\n",
        "        # 获取文件大小\n",
        "        file_size = int(response.headers.get('Content-Length', 0))\n",
        "\n",
        "        # 创建tqdm进度条\n",
        "        progress_bar = tqdm(total=file_size, unit='iB', unit_scale=True)\n",
        "\n",
        "        # 打开目标文件并写入响应内容\n",
        "        with open(target_path, 'wb') as f:\n",
        "            for chunk in response.iter_content(chunk_size=1024):\n",
        "                if chunk:\n",
        "                    # 更新进度条\n",
        "                    progress_bar.update(len(chunk))\n",
        "                    f.write(chunk)\n",
        "\n",
        "        # 关闭进度条\n",
        "        progress_bar.close()\n",
        "    else:\n",
        "        print(f\"请求失败，状态码：{response.status_code}\")\n",
        "# 定义解压缩函数\n",
        "def unzip_file(zip_path, extract_path):\n",
        "    \"\"\"\n",
        "    解压缩zip文件到指定的目录\n",
        "    \"\"\"\n",
        "    # 创建ZipFile对象\n",
        "    with zipfile.ZipFile(zip_path, 'r') as zip_ref:\n",
        "        # 解压缩文件\n",
        "        zip_ref.extractall(extract_path)"
      ]
    },
    {
      "cell_type": "markdown",
      "metadata": {},
      "source": [
        "# 每次更新github仓库后，重新下载解压代码"
      ]
    },
    {
      "cell_type": "code",
      "execution_count": null,
      "metadata": {},
      "outputs": [],
      "source": [
        "# 定义URL和目标路径\n",
        "url = \"https://github.com/TT2TER/Reproduce-Text-Sketch/archive/refs/heads/main.zip\"  # 替换为你的zip文件的URL\n",
        "target_path = \"/content/download/main.zip\"  # 替换为你想要保存zip文件的路径\n",
        "# 调用下载函数\n",
        "download_file(url, target_path)\n",
        "# 定义zip文件路径和解压缩目录\n",
        "zip_path = target_path  # 替换为你的zip文件的路径\n",
        "extract_path = \"/content\"  # 替换为你想要解压缩到的目录\n",
        "# 调用解压缩函数\n",
        "unzip_file(zip_path, extract_path)"
      ]
    },
    {
      "cell_type": "code",
      "execution_count": null,
      "metadata": {
        "colab": {
          "base_uri": "https://localhost:8080/"
        },
        "id": "3hh3cHAJb8ov",
        "outputId": "0e70e54f-4f12-4e99-d51c-1654a9f9cce0"
      },
      "outputs": [],
      "source": [
        "import os\n",
        "path=\"/content/Reproduce-Text-Sketch-main\"\n",
        "os.chdir(path)\n",
        "os.listdir(path)"
      ]
    },
    {
      "cell_type": "code",
      "execution_count": null,
      "metadata": {
        "id": "O3yguDkDcmoV"
      },
      "outputs": [],
      "source": [
        "! pip install compressai diffusers pytorch-lightning opencv-python einops ftfy sentence-transformers accelerate xformers basicsr > log.txt"
      ]
    },
    {
      "cell_type": "code",
      "execution_count": null,
      "metadata": {
        "colab": {
          "base_uri": "https://localhost:8080/"
        },
        "id": "R5I5kRY0mHNR",
        "outputId": "7ef766d4-b2c4-4a58-ac01-0ab0d557f8fa"
      },
      "outputs": [],
      "source": [
        "import os\n",
        "os.mkdir('/content/download')\n",
        "os.mkdir('/content/image_datasets')\n",
        "\n",
        "\n",
        "# 定义URL和目标路径\n",
        "url = \"https://data.vision.ee.ethz.ch/cvl/clic/test/CLIC2020Professional_test.zip\"  # 替换为你的zip文件的URL\n",
        "target_path = \"/content/download/test.zip\"  # 替换为你想要保存zip文件的路径\n",
        "# 调用下载函数\n",
        "download_file(url, target_path)\n",
        "# 定义zip文件路径和解压缩目录\n",
        "zip_path = target_path  # 替换为你的zip文件的路径\n",
        "extract_path = \"/content/image_datasets/CLIC/2020/test\"  # 替换为你想要解压缩到的目录\n",
        "# 调用解压缩函数\n",
        "unzip_file(zip_path, extract_path)\n",
        "\n",
        "# 定义URL和目标路径\n",
        "url = \"https://data.vision.ee.ethz.ch/cvl/clic/professional_train_2020.zip\"  # 替换为你的zip文件的URL\n",
        "target_path = \"/content/download/train.zip\"  # 替换为你想要保存zip文件的路径\n",
        "# 调用下载函数\n",
        "download_file(url, target_path)\n",
        "# 定义zip文件路径和解压缩目录\n",
        "zip_path = target_path  # 替换为你的zip文件的路径\n",
        "extract_path = \"/content/image_datasets/CLIC/2020/train\"  # 替换为你想要解压缩到的目录\n",
        "# 调用解压缩函数\n",
        "unzip_file(zip_path, extract_path)\n",
        "\n",
        "# 定义URL和目标路径\n",
        "url = \"https://data.vision.ee.ethz.ch/cvl/clic/professional_valid_2020.zip\"  # 替换为你的zip文件的URL\n",
        "target_path = \"/content/download/valid.zip\"  # 替换为你想要保存zip文件的路径\n",
        "# 调用下载函数\n",
        "download_file(url, target_path)\n",
        "# 定义zip文件路径和解压缩目录\n",
        "zip_path = target_path  # 替换为你的zip文件的路径\n",
        "extract_path = \"/content/image_datasets/CLIC/2020/valid\"  # 替换为你想要解压缩到的目录\n",
        "# 调用解压缩函数\n",
        "unzip_file(zip_path, extract_path)"
      ]
    },
    {
      "cell_type": "code",
      "execution_count": null,
      "metadata": {
        "colab": {
          "base_uri": "https://localhost:8080/"
        },
        "id": "XyVuozf-zvI7",
        "outputId": "cb079787-338b-484a-bc91-6454c9f586d3"
      },
      "outputs": [],
      "source": [
        "!pip3 install -U xformers --index-url https://download.pytorch.org/whl/cu118"
      ]
    },
    {
      "cell_type": "markdown",
      "metadata": {},
      "source": [
        "删除测试集的数据，减少测试时间"
      ]
    },
    {
      "cell_type": "code",
      "execution_count": null,
      "metadata": {
        "colab": {
          "base_uri": "https://localhost:8080/"
        },
        "id": "BZwFz6Ih2ZHB",
        "outputId": "f30f6c30-8807-42fd-c47d-90395421fd76"
      },
      "outputs": [],
      "source": [
        "import os\n",
        "\n",
        "path=\"../image_datasets/CLIC/2020/test/professional\"\n",
        "os.chdir(path)\n",
        "# 获取当前脚本所在的文件夹路径\n",
        "current_directory = os.getcwd()\n",
        "print(current_directory)\n",
        "# 获取当前文件夹下的所有文件和文件夹\n",
        "files_and_folders = os.listdir(current_directory)\n",
        "\n",
        "# 获取前240项文件\n",
        "files_to_delete = files_and_folders[:240]\n",
        "\n",
        "# 删除文件\n",
        "for file_name in files_to_delete:\n",
        "    file_path = os.path.join(current_directory, file_name)\n",
        "    try:\n",
        "        os.remove(file_path)\n",
        "        print(f\"Deleted: {file_name}\")\n",
        "    except Exception as e:\n",
        "        print(f\"Error deleting {file_name}: {e}\")\n",
        "\n",
        "print(\"Deletion complete.\")\n"
      ]
    },
    {
      "cell_type": "code",
      "execution_count": null,
      "metadata": {
        "id": "5w_Ucbtv5Wbg"
      },
      "outputs": [],
      "source": [
        "path=\"/content/Reproduce-Text-Sketch-main\"\n",
        "os.chdir(path)"
      ]
    },
    {
      "cell_type": "code",
      "execution_count": null,
      "metadata": {
        "colab": {
          "base_uri": "https://localhost:8080/"
        },
        "id": "VkzDiMLScd1r",
        "outputId": "36144cf7-1b9d-44b1-c7ce-5ed7fadc18b5"
      },
      "outputs": [],
      "source": [
        "! python eval_PIC.py"
      ]
    }
  ],
  "metadata": {
    "accelerator": "GPU",
    "colab": {
      "gpuType": "T4",
      "provenance": []
    },
    "kernelspec": {
      "display_name": "Python 3",
      "name": "python3"
    },
    "language_info": {
      "name": "python"
    }
  },
  "nbformat": 4,
  "nbformat_minor": 0
}

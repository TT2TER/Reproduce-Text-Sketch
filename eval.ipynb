{
 "cells": [
  {
   "cell_type": "code",
   "execution_count": 1,
   "metadata": {},
   "outputs": [],
   "source": [
    "%load_ext autoreload\n",
    "%autoreload 2"
   ]
  },
  {
   "cell_type": "code",
   "execution_count": 6,
   "metadata": {},
   "outputs": [],
   "source": [
    "import torch\n",
    "import lpips\n",
    "from torchvision import transforms\n",
    "from dataloaders import Kodak, CLIC, DIV2K\n",
    "from PIL import Image\n",
    "import yaml\n",
    "from pytorch_msssim import ms_ssim\n",
    "import glob\n",
    "import matplotlib.pyplot as plt\n",
    "from prompt_inversion.optim_utils import clip_cosine, read_json\n",
    "import prompt_inversion.open_clip as open_clip\n",
    "from argparse import Namespace\n",
    "import tqdm\n",
    "\n",
    "device = 'cuda:1'"
   ]
  },
  {
   "cell_type": "code",
   "execution_count": 3,
   "metadata": {},
   "outputs": [],
   "source": [
    "args = Namespace()\n",
    "args.__dict__.update(read_json(\"prompt_inversion/sample_config.json\"))\n",
    "\n",
    "clip_model, _, clip_preprocess = open_clip.create_model_and_transforms(args.clip_model, pretrained=args.clip_pretrain, device=device)\n",
    "\n",
    "def distortion_CLIP(x, xhat):\n",
    "    return 1 - clip_cosine([x], [xhat], clip_model, clip_preprocess, device)"
   ]
  },
  {
   "cell_type": "code",
   "execution_count": 4,
   "metadata": {},
   "outputs": [
    {
     "name": "stdout",
     "output_type": "stream",
     "text": [
      "Setting up [LPIPS] perceptual loss: trunk [alex], v[0.1], spatial [off]\n"
     ]
    },
    {
     "name": "stderr",
     "output_type": "stream",
     "text": [
      "/home/eric/miniconda3/envs/control2/lib/python3.8/site-packages/torchvision/models/_utils.py:208: UserWarning: The parameter 'pretrained' is deprecated since 0.13 and may be removed in the future, please use 'weights' instead.\n",
      "  warnings.warn(\n",
      "/home/eric/miniconda3/envs/control2/lib/python3.8/site-packages/torchvision/models/_utils.py:223: UserWarning: Arguments other than a weight enum or `None` for 'weights' are deprecated since 0.13 and may be removed in the future. The current behavior is equivalent to passing `weights=AlexNet_Weights.IMAGENET1K_V1`. You can also use `weights=AlexNet_Weights.DEFAULT` to get the most up-to-date weights.\n",
      "  warnings.warn(msg)\n"
     ]
    },
    {
     "name": "stdout",
     "output_type": "stream",
     "text": [
      "Loading model from: /home/eric/miniconda3/envs/control2/lib/python3.8/site-packages/lpips/weights/v0.1/alex.pth\n"
     ]
    }
   ],
   "source": [
    "lpips_loss = lpips.LPIPS(net='alex') \n",
    "\n",
    "def ntc_preprocess(image):\n",
    "    # transform = transforms.Compose(\n",
    "    #         [transforms.Grayscale(), transforms.ToTensor()]\n",
    "    #     )\n",
    "    transform = transforms.Compose(\n",
    "            [transforms.ToTensor(), transforms.Normalize((0.5, 0.5, 0.5), (0.5, 0.5, 0.5))]\n",
    "        )\n",
    "    image = transform(image)\n",
    "    return image\n",
    "\n",
    "def distortion_LPIPS(orig, recon):\n",
    "    recon = ntc_preprocess(recon)\n",
    "    orig = ntc_preprocess(orig)\n",
    "\n",
    "    return lpips_loss(orig.unsqueeze(0), recon.unsqueeze(0)).item()\n",
    "    # loss += lpips_loss(orig.unsqueeze(0), recon.unsqueeze(0)).item()\n",
    "    "
   ]
  },
  {
   "cell_type": "code",
   "execution_count": 5,
   "metadata": {},
   "outputs": [],
   "source": [
    "def ntc_preprocess(image):\n",
    "    # transform = transforms.Compose(\n",
    "    #         [transforms.Grayscale(), transforms.ToTensor()]\n",
    "    #     )\n",
    "    transform = transforms.Compose(\n",
    "            [transforms.ToTensor(), transforms.Normalize((0.5, 0.5, 0.5), (0.5, 0.5, 0.5))]\n",
    "        )\n",
    "    image = transform(image)\n",
    "    return image"
   ]
  },
  {
   "cell_type": "code",
   "execution_count": 7,
   "metadata": {},
   "outputs": [],
   "source": [
    "# dm = Kodak(root='/home/Shared/image_datasets/Kodak/', batch_size=1)\n",
    "# dm = CLIC(root='/home/Shared/image_datasets/CLIC_resized/2021', batch_size=1)\n",
    "dm = DIV2K(root='/home/Shared/image_datasets/DIV2K_resized', batch_size=1)\n",
    "dset = dm.test_dset"
   ]
  },
  {
   "cell_type": "code",
   "execution_count": 15,
   "metadata": {},
   "outputs": [
    {
     "name": "stderr",
     "output_type": "stream",
     "text": [
      "100%|██████████| 100/100 [00:06<00:00, 15.61it/s]"
     ]
    },
    {
     "name": "stdout",
     "output_type": "stream",
     "text": [
      "Avg loss=0.5339853346347809, bpp=0.0374881085634946\n"
     ]
    },
    {
     "name": "stderr",
     "output_type": "stream",
     "text": [
      "\n"
     ]
    }
   ],
   "source": [
    "# name = 'DIV2K/q1_ms_ssim'\n",
    "# exp = 'mbt2018_lowrate'\n",
    "name = 'SD_pi_lpips'\n",
    "\n",
    "loss = 0\n",
    "bpp = 0\n",
    "for i, im in tqdm.tqdm(enumerate(dset), total=len(dset)):\n",
    "    recon = Image.open(f'recon_examples/{exp}/{name}/{i}_recon.png')\n",
    "    orig = transforms.functional.to_pil_image(im[0])\n",
    "    # loss += distortion_CLIP(orig, recon)\n",
    "    loss += distortion_LPIPS(orig, recon)\n",
    "    # loss += ms_ssim(orig.unsqueeze(0), recon.unsqueeze(0), 1).item()\n",
    "\n",
    "    fpath = glob.glob(f'recon_examples/{exp}/{name}/{i}*.yaml')[0]\n",
    "    with open(fpath, 'r') as stream:\n",
    "        f = yaml.safe_load(stream)\n",
    "    bpp += f['bpp_total']\n",
    "\n",
    "print(f'Avg loss={loss/len(dset)}, bpp={bpp/len(dset)}')"
   ]
  },
  {
   "cell_type": "code",
   "execution_count": 16,
   "metadata": {},
   "outputs": [
    {
     "name": "stdout",
     "output_type": "stream",
     "text": [
      "Avg loss=0.5339853346347809, bpp=0.0374881085634946\n"
     ]
    },
    {
     "ename": "",
     "evalue": "",
     "output_type": "error",
     "traceback": [
      "\u001b[1;31mThe Kernel crashed while executing code in the the current cell or a previous cell. Please review the code in the cell(s) to identify a possible cause of the failure. Click <a href='https://aka.ms/vscodeJupyterKernelCrash'>here</a> for more info. View Jupyter <a href='command:jupyter.viewOutput'>log</a> for further details."
     ]
    }
   ],
   "source": [
    "print(f'Avg loss={loss/len(dset)}, bpp={bpp/len(dset)}')"
   ]
  },
  {
   "cell_type": "code",
   "execution_count": null,
   "metadata": {},
   "outputs": [],
   "source": [
    "\n",
    "# CLIC\n",
    "# q1_ms-ssim: bpp=0.0320, LPIPS=0.44573, FID=306.6994, KID=0.07609493, CLIP=0.323728\n",
    "# q2_ms-ssim: bpp=0.0498, LPIPS=0.3798, FID=284.1792, KID=0.05331241, CLIP=0.25363\n",
    "# SD_pi: bpp=0.00283, LPIPS=0.74414, FID=246.7897, KID=0.01864557, CLIP=0.32015\n",
    "# SD_pi+hed_lpips_rcc: bpp=0.01507, LPIPS=0.62328, FID=267.0152, KID=0.03444665, CLIP=0.2658\n",
    "\n",
    "# DIV2K\n",
    "# q1_ms-ssim: bpp=0.0375, LPIPS=0.5340, FID=239.9637, KID=0.0505623, CLIP=0.3425\n",
    "# q2_ms-ssim: bpp=0.06014, LPIPS=0.456, FID=213.7037, KID=0.02861265, CLIP=0.2699\n",
    "# SD_pi: bpp=0., LPIPS=0., FID=, KID=0., CLIP=0.\n",
    "# SD_pi+hed_lpips_rcc: bpp=0., LPIPS=0., FID=, KID=0., CLIP=0.\n"
   ]
  },
  {
   "cell_type": "code",
   "execution_count": null,
   "metadata": {},
   "outputs": [],
   "source": []
  }
 ],
 "metadata": {
  "kernelspec": {
   "display_name": "control2",
   "language": "python",
   "name": "python3"
  },
  "language_info": {
   "codemirror_mode": {
    "name": "ipython",
    "version": 3
   },
   "file_extension": ".py",
   "mimetype": "text/x-python",
   "name": "python",
   "nbconvert_exporter": "python",
   "pygments_lexer": "ipython3",
   "version": "3.8.5"
  },
  "orig_nbformat": 4
 },
 "nbformat": 4,
 "nbformat_minor": 2
}

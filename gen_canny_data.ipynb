{
 "cells": [
  {
   "cell_type": "code",
   "execution_count": 2,
   "metadata": {},
   "outputs": [],
   "source": [
    "import torch\n",
    "from annotator.canny import CannyDetector\n",
    "from annotator.hed import HEDdetector\n",
    "from annotator.uniformer import UniformerDetector\n",
    "from annotator.util import HWC3, resize_image\n",
    "from dataloaders import CLIC\n",
    "import tqdm\n",
    "import numpy as np\n",
    "from PIL import Image\n",
    "from torchvision import transforms\n",
    "import cv2\n",
    "import matplotlib.pyplot as plt"
   ]
  },
  {
   "cell_type": "code",
   "execution_count": 3,
   "metadata": {},
   "outputs": [],
   "source": [
    "class CannyTransform(torch.nn.Module):\n",
    "    \"\"\"Apply Canny Edge Detector to image\n",
    "    \"\"\"\n",
    "\n",
    "    def __init__(self, low, high):\n",
    "        super().__init__()\n",
    "        self.low = low\n",
    "        self.high = high\n",
    "        self.hed = UniformerDetector()\n",
    "\n",
    "    def HWC3(self, x):\n",
    "        assert x.dtype == np.uint8\n",
    "        if x.ndim == 2:\n",
    "            x = x[:, :, None]\n",
    "        assert x.ndim == 3\n",
    "        H, W, C = x.shape\n",
    "        assert C == 1 or C == 3 or C == 4\n",
    "        if C == 3:\n",
    "            return x\n",
    "        if C == 1:\n",
    "            return np.concatenate([x, x, x], axis=2)\n",
    "        if C == 4:\n",
    "            color = x[:, :, 0:3].astype(np.float32)\n",
    "            alpha = x[:, :, 3:4].astype(np.float32) / 255.0\n",
    "            y = color * alpha + 255.0 * (1.0 - alpha)\n",
    "            y = y.clip(0, 255).astype(np.uint8)\n",
    "            return y\n",
    "\n",
    "\n",
    "    def forward(self, img):\n",
    "        \"\"\"\n",
    "        Args:\n",
    "            img (PIL Image or Tensor): Image to be Canny'd.\n",
    "\n",
    "        Returns:\n",
    "            Tensor: Canny edge map of image.\n",
    "        \"\"\"\n",
    "        img = (255*img.permute(1,2,0)).numpy().astype(np.uint8)\n",
    "        # img = cv2.Canny(self.HWC3(img), self.low, self.high)\n",
    "        img = self.hed(self.HWC3(img))\n",
    "        img = torch.tensor(img).unsqueeze(0)\n",
    "        return img\n",
    "\n",
    "    def __repr__(self) -> str:\n",
    "        return f\"{self.__class__.__name__}(p={self.p})\""
   ]
  },
  {
   "cell_type": "code",
   "execution_count": 4,
   "metadata": {},
   "outputs": [
    {
     "name": "stdout",
     "output_type": "stream",
     "text": [
      "Downloading: \"https://huggingface.co/lllyasviel/ControlNet/resolve/main/annotator/ckpts/upernet_global_small.pth\" to /home/eric/gitRepos/TextualTC/annotator/ckpts/upernet_global_small.pth\n",
      "\n"
     ]
    },
    {
     "name": "stderr",
     "output_type": "stream",
     "text": [
      "100%|██████████| 197M/197M [00:01<00:00, 116MB/s]  \n"
     ]
    },
    {
     "name": "stdout",
     "output_type": "stream",
     "text": [
      "Use Checkpoint: False\n",
      "Checkpoint Number: [0, 0, 0, 0]\n",
      "Use global window for all blocks in stage3\n",
      "load checkpoint from local path: /home/eric/gitRepos/TextualTC/annotator/ckpts/upernet_global_small.pth\n"
     ]
    }
   ],
   "source": [
    "t = CannyTransform(100, 200)"
   ]
  },
  {
   "cell_type": "code",
   "execution_count": 6,
   "metadata": {},
   "outputs": [],
   "source": [
    "transform = transforms.Compose([\n",
    "            transforms.CenterCrop(512),\n",
    "            CannyTransform(100, 200),\n",
    "        ])"
   ]
  },
  {
   "cell_type": "code",
   "execution_count": 5,
   "metadata": {},
   "outputs": [],
   "source": [
    "clic = CLIC(root='/home/Shared/image_datasets/CLIC/2021', batch_size=1)"
   ]
  },
  {
   "cell_type": "code",
   "execution_count": 6,
   "metadata": {},
   "outputs": [],
   "source": [
    "x = clic.train_dset[2][0]"
   ]
  },
  {
   "cell_type": "code",
   "execution_count": 8,
   "metadata": {},
   "outputs": [
    {
     "name": "stderr",
     "output_type": "stream",
     "text": [
      "/home/eric/gitRepos/TextualTC/annotator/uniformer/mmseg/models/segmentors/base.py:271: UserWarning: show==False and out_file is not specified, only result image will be returned\n",
      "  warnings.warn('show==False and out_file is not specified, only '\n"
     ]
    },
    {
     "data": {
      "text/html": [
       "<pre style=\"white-space:pre;overflow-x:auto;line-height:normal;font-family:Menlo,'DejaVu Sans Mono',consolas,'Courier New',monospace\"><span style=\"color: #800000; text-decoration-color: #800000\">╭─────────────────────────────── </span><span style=\"color: #800000; text-decoration-color: #800000; font-weight: bold\">Traceback </span><span style=\"color: #bf7f7f; text-decoration-color: #bf7f7f; font-weight: bold\">(most recent call last)</span><span style=\"color: #800000; text-decoration-color: #800000\"> ────────────────────────────────╮</span>\n",
       "<span style=\"color: #800000; text-decoration-color: #800000\">│</span> in <span style=\"color: #00ff00; text-decoration-color: #00ff00\">&lt;cell line: 1&gt;</span>:<span style=\"color: #0000ff; text-decoration-color: #0000ff\">1</span>                                                                              <span style=\"color: #800000; text-decoration-color: #800000\">│</span>\n",
       "<span style=\"color: #800000; text-decoration-color: #800000\">│</span>                                                                                                  <span style=\"color: #800000; text-decoration-color: #800000\">│</span>\n",
       "<span style=\"color: #800000; text-decoration-color: #800000\">│</span> <span style=\"color: #800000; text-decoration-color: #800000\">❱ </span>1 plt.imshow(t(x).permute(<span style=\"color: #0000ff; text-decoration-color: #0000ff\">1</span>,<span style=\"color: #0000ff; text-decoration-color: #0000ff\">2</span>,<span style=\"color: #0000ff; text-decoration-color: #0000ff\">0</span>), cmap=<span style=\"color: #808000; text-decoration-color: #808000\">'gray'</span>)                                                 <span style=\"color: #800000; text-decoration-color: #800000\">│</span>\n",
       "<span style=\"color: #800000; text-decoration-color: #800000\">│</span>   <span style=\"color: #7f7f7f; text-decoration-color: #7f7f7f\">2 </span>                                                                                             <span style=\"color: #800000; text-decoration-color: #800000\">│</span>\n",
       "<span style=\"color: #800000; text-decoration-color: #800000\">╰──────────────────────────────────────────────────────────────────────────────────────────────────╯</span>\n",
       "<span style=\"color: #ff0000; text-decoration-color: #ff0000; font-weight: bold\">RuntimeError: </span><span style=\"color: #800080; text-decoration-color: #800080; font-weight: bold\">permute</span><span style=\"font-weight: bold\">(</span>sparse_coo<span style=\"font-weight: bold\">)</span>: number of dimensions in the tensor input does not match the length of the \n",
       "desired ordering of dimensions i.e. <span style=\"color: #800080; text-decoration-color: #800080; font-weight: bold\">input.dim</span><span style=\"font-weight: bold\">()</span> = <span style=\"color: #008080; text-decoration-color: #008080; font-weight: bold\">4</span> is not equal to <span style=\"color: #800080; text-decoration-color: #800080; font-weight: bold\">len</span><span style=\"font-weight: bold\">(</span>dims<span style=\"font-weight: bold\">)</span> = <span style=\"color: #008080; text-decoration-color: #008080; font-weight: bold\">3</span>\n",
       "</pre>\n"
      ],
      "text/plain": [
       "\u001b[31m╭─\u001b[0m\u001b[31m──────────────────────────────\u001b[0m\u001b[31m \u001b[0m\u001b[1;31mTraceback \u001b[0m\u001b[1;2;31m(most recent call last)\u001b[0m\u001b[31m \u001b[0m\u001b[31m───────────────────────────────\u001b[0m\u001b[31m─╮\u001b[0m\n",
       "\u001b[31m│\u001b[0m in \u001b[92m<cell line: 1>\u001b[0m:\u001b[94m1\u001b[0m                                                                              \u001b[31m│\u001b[0m\n",
       "\u001b[31m│\u001b[0m                                                                                                  \u001b[31m│\u001b[0m\n",
       "\u001b[31m│\u001b[0m \u001b[31m❱ \u001b[0m1 plt.imshow(t(x).permute(\u001b[94m1\u001b[0m,\u001b[94m2\u001b[0m,\u001b[94m0\u001b[0m), cmap=\u001b[33m'\u001b[0m\u001b[33mgray\u001b[0m\u001b[33m'\u001b[0m)                                                 \u001b[31m│\u001b[0m\n",
       "\u001b[31m│\u001b[0m   \u001b[2m2 \u001b[0m                                                                                             \u001b[31m│\u001b[0m\n",
       "\u001b[31m╰──────────────────────────────────────────────────────────────────────────────────────────────────╯\u001b[0m\n",
       "\u001b[1;91mRuntimeError: \u001b[0m\u001b[1;35mpermute\u001b[0m\u001b[1m(\u001b[0msparse_coo\u001b[1m)\u001b[0m: number of dimensions in the tensor input does not match the length of the \n",
       "desired ordering of dimensions i.e. \u001b[1;35minput.dim\u001b[0m\u001b[1m(\u001b[0m\u001b[1m)\u001b[0m = \u001b[1;36m4\u001b[0m is not equal to \u001b[1;35mlen\u001b[0m\u001b[1m(\u001b[0mdims\u001b[1m)\u001b[0m = \u001b[1;36m3\u001b[0m\n"
      ]
     },
     "metadata": {},
     "output_type": "display_data"
    }
   ],
   "source": [
    "plt.imshow(t(x).permute(1,2,0), cmap='gray')"
   ]
  },
  {
   "cell_type": "code",
   "execution_count": null,
   "metadata": {},
   "outputs": [],
   "source": [
    "encode()"
   ]
  },
  {
   "cell_type": "code",
   "execution_count": 36,
   "metadata": {},
   "outputs": [
    {
     "name": "stdout",
     "output_type": "stream",
     "text": [
      "Use Checkpoint: False\n",
      "Checkpoint Number: [0, 0, 0, 0]\n",
      "Use global window for all blocks in stage3\n",
      "load checkpoint from local path: /home/eric/gitRepos/TextualTC/annotator/ckpts/upernet_global_small.pth\n"
     ]
    }
   ],
   "source": [
    "apply_canny = UniformerDetector()\n",
    "def encode(im):\n",
    "    # apply_canny = UniformerDetector()\n",
    "    # apply_canny = HEDdetector()\n",
    "    canny_map = HWC3(apply_canny(im))\n",
    "    return canny_map"
   ]
  },
  {
   "cell_type": "code",
   "execution_count": 44,
   "metadata": {},
   "outputs": [],
   "source": [
    "save_dir = '/home/Shared/image_datasets/CLIC/2021/seg_valid'"
   ]
  },
  {
   "cell_type": "code",
   "execution_count": 47,
   "metadata": {},
   "outputs": [
    {
     "name": "stderr",
     "output_type": "stream",
     "text": [
      "  0%|          | 0/41 [00:00<?, ?it/s]/home/eric/gitRepos/TextualTC/annotator/uniformer/mmseg/models/segmentors/base.py:271: UserWarning: show==False and out_file is not specified, only result image will be returned\n",
      "  warnings.warn('show==False and out_file is not specified, only '\n",
      "100%|██████████| 41/41 [00:07<00:00,  5.71it/s]\n"
     ]
    }
   ],
   "source": [
    "for i, x in tqdm.tqdm(enumerate(clic.val_dset), total=len(clic.val_dset)):\n",
    "    x = x[0]\n",
    "    x_im = (255*x.permute(1,2,0)).numpy().astype(np.uint8)\n",
    "    im = resize_image(HWC3(x_im), 512)\n",
    "    canny = HWC3(encode(im))\n",
    "    im_canny = Image.fromarray(canny)\n",
    "    im_canny.save(f'{save_dir}/{i}_seg.png')"
   ]
  },
  {
   "cell_type": "code",
   "execution_count": 51,
   "metadata": {},
   "outputs": [
    {
     "name": "stderr",
     "output_type": "stream",
     "text": [
      "/home/eric/gitRepos/TextualTC/annotator/uniformer/mmseg/models/segmentors/base.py:271: UserWarning: show==False and out_file is not specified, only result image will be returned\n",
      "  warnings.warn('show==False and out_file is not specified, only '\n"
     ]
    }
   ],
   "source": [
    "x = clic.train_dset[4][0]\n",
    "x_im = (255*x.permute(1,2,0)).numpy().astype(np.uint8)\n",
    "im = resize_image(HWC3(x_im), 512)\n",
    "seg = HWC3(encode(im))"
   ]
  },
  {
   "cell_type": "code",
   "execution_count": 32,
   "metadata": {},
   "outputs": [],
   "source": [
    "seg = Image.fromarray(seg)"
   ]
  },
  {
   "cell_type": "code",
   "execution_count": 33,
   "metadata": {},
   "outputs": [
    {
     "data": {
      "image/png": "[encoded data removed]",
      "text/plain": [
       "<PIL.Image.Image image mode=RGB size=768x512>"
      ]
     },
     "execution_count": 33,
     "metadata": {},
     "output_type": "execute_result"
    }
   ],
   "source": [
    "seg"
   ]
  },
  {
   "cell_type": "code",
   "execution_count": 46,
   "metadata": {},
   "outputs": [
    {
     "data": {
      "text/plain": [
       "array([  6,  61, 140, 143, 230, 250, 255], dtype=uint8)"
      ]
     },
     "execution_count": 46,
     "metadata": {},
     "output_type": "execute_result"
    }
   ],
   "source": [
    "np.unique(seg)"
   ]
  },
  {
   "cell_type": "code",
   "execution_count": 52,
   "metadata": {},
   "outputs": [
    {
     "data": {
      "text/plain": [
       "array([  6, 230, 230], dtype=uint8)"
      ]
     },
     "execution_count": 52,
     "metadata": {},
     "output_type": "execute_result"
    },
    {
     "ename": "",
     "evalue": "",
     "output_type": "error",
     "traceback": [
      "\u001b[1;31mThe Kernel crashed while executing code in the the current cell or a previous cell. Please review the code in the cell(s) to identify a possible cause of the failure. Click <a href='https://aka.ms/vscodeJupyterKernelCrash'>here</a> for more info. View Jupyter <a href='command:jupyter.viewOutput'>log</a> for further details."
     ]
    }
   ],
   "source": [
    "seg[0,0,:]"
   ]
  },
  {
   "cell_type": "code",
   "execution_count": null,
   "metadata": {},
   "outputs": [],
   "source": []
  }
 ],
 "metadata": {
  "kernelspec": {
   "display_name": "torch2",
   "language": "python",
   "name": "python3"
  },
  "language_info": {
   "codemirror_mode": {
    "name": "ipython",
    "version": 3
   },
   "file_extension": ".py",
   "mimetype": "text/x-python",
   "name": "python",
   "nbconvert_exporter": "python",
   "pygments_lexer": "ipython3",
   "version": "3.8.5"
  },
  "orig_nbformat": 4
 },
 "nbformat": 4,
 "nbformat_minor": 2
}
